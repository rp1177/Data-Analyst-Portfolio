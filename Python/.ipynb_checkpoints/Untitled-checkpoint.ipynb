{
 "cells": [
  {
   "cell_type": "markdown",
   "id": "8746cef2-20cf-4292-a18a-17ea6d14360d",
   "metadata": {},
   "source": [
    "## Webscraping GoFundMe "
   ]
  },
  {
   "cell_type": "markdown",
   "id": "7c459483-cf09-44cc-a8aa-1d2dc1b2ff51",
   "metadata": {},
   "source": [
    "#### Use selenium library to scrape data from GoFundMe in the categories: \"Creativity\" \"Education\" \"Environment\" \"NonProfit\" \"Family\" in a local area nearby "
   ]
  },
  {
   "cell_type": "markdown",
   "id": "78b449ff-26a0-476f-836b-e31fe11eae69",
   "metadata": {},
   "source": [
    "The data that will be extracted includes Campaign title, Category, Summary, Current funding amount, and Funding goal. Data scraping is used for learning purposes only and the names of the campaign makers will not be extracted. Once the data is extracted into a Python list, the list will be converted into a Pandas DataFrame for analysis. "
   ]
  },
  {
   "cell_type": "code",
   "execution_count": 1,
   "id": "fa490f76-1bb6-4c7b-9461-72a905246d34",
   "metadata": {},
   "outputs": [],
   "source": [
    "#import the necessary libraries:\n",
    "import requests\n",
    "import pandas as pd\n",
    "import matplotlib.pyplot as plt\n",
    "import seaborn as sns\n",
    "from prettytable import PrettyTable\n",
    "import time\n",
    "import selenium\n",
    "\n",
    "from selenium import webdriver\n",
    "from selenium.webdriver.chrome.options import Options\n",
    "from selenium.webdriver.common.by import By\n",
    "from selenium.webdriver.support.ui import WebDriverWait\n",
    "from selenium.webdriver.support import expected_conditions as EC\n",
    "from selenium.webdriver import ActionChains, Keys\n",
    "import time"
   ]
  },
  {
   "cell_type": "code",
   "execution_count": 31,
   "id": "2501d89f-2bdd-4170-8306-0f389a4a0b08",
   "metadata": {},
   "outputs": [
    {
     "name": "stdout",
     "output_type": "stream",
     "text": [
      "[[\"Support Zahavi Family's Recovery from Fire\", '$503,167 raised of $1,000,000 goal\\n4K donations', \"Please find in your hearts to donate money to this amazing family in our yishuv/hometown. A fire broke out in the middle of the night,\\nToddlers, children, babies, young people and adults, Ages 1-45. The mother , of 9 children, unfortunately passed away, not before saving each of her children's lives.\\nPlease donate anything you can to help this family\\nHelp them rebuild their home\\nAll funds will be given directly to the Zahavi bank account for bills and repairs\\nAny amount you are willing to contribute is greatly appreciated\\nIf you aren't able to contribute money at this time, a share with your friends and family would mean the world us\\nThank you\", 'Family'], ['Help Asmaa Family in Gaza Food Water And Shelter', '$50,191 raised of $100,000 goal\\n2.4K donations', \"الترجمة للعربي اسفل الرابط\\n\\nMy name is Abdel Hafez Omar, and I am supporting my dear friend Asmaa and her children to launch this fundraising campaign to help her and her family rebuild their lives amid the devastating crisis in Gaza. Please read Asmaa's story and participate in supporting them to overcome this nightmare and start over in their lives.\\n\\n\\nMy name is Asmaa from Gaza, specifically the northern Gaza Strip. I live the war as a never-ending nightmare, every day it takes away our lives and our property. The occupying Israeli army destroyed my family's home, which was the only place to live. My family now consists of about 30 people, in tents in the open, without any basic necessities to facilitate life. Rain and hot summer are among the biggest problems we may face, and this is the case for most people in Gaza during this period.\\n\\n\\n\\nRead more\", 'Family']]\n"
     ]
    }
   ],
   "source": [
    "options = Options()\n",
    "options.add_argument(\"user-agent=Mozilla/5.0 (Windows NT 10.0; Win64; x64) AppleWebKit/537.36 (KHTML, like Gecko) Chrome/58.0.3029.110 Safari/537.3\")\n",
    "\n",
    "fundme_campaigns = [] #list to store campaign information\n",
    "\n",
    "#the url page in question:\n",
    "url_page = \"https://www.gofundme.com/s?location-lat=40.57870&location-lng=-74.22920&location-description=Carteret&c=13&c=17&c=342&c=8&c=4\"\n",
    "\n",
    "driver = webdriver.Chrome(options=options)\n",
    "driver.get(url_page)\n",
    "wait = WebDriverWait(driver, 10)  # Wait up to 10 seconds for all elements in the website to load\n",
    "\n",
    "\n",
    "for i in range(48):\n",
    "    \n",
    "    elements = driver.find_elements(By.CSS_SELECTOR, \"div.full-state-list-card_mediaCardImage__edpE8\")\n",
    "    time.sleep(3)\n",
    "    elements[i].click()\n",
    "    time.sleep(3)\n",
    "    \n",
    "    campaign_title = driver.find_element(By.CSS_SELECTOR, \"header.p-campaign-header\")\n",
    "    funds = driver.find_element(By.CSS_SELECTOR, \"div.progress-meter_progressMeter__BYOlt\")\n",
    "    summary = driver.find_element(By.CSS_SELECTOR, \"div.campaign-description_campaignDescription__6P_RU\")\n",
    "    category = driver.find_element(By.CSS_SELECTOR, \"a.hrt-disp-flex.hrt-align-center.hrt-link.hrt-link--gray-dark\")\n",
    "\n",
    "    fundme_campaigns.append([campaign_title.text,funds.text,summary.text,category.text])\n",
    "\n",
    "    driver.back()\n",
    "    time.sleep(5)\n",
    "\n",
    "\n",
    "print(fundme_campaigns)\n",
    "\n",
    "\n",
    "driver.close()\n"
   ]
  },
  {
   "cell_type": "code",
   "execution_count": null,
   "id": "26a98511-9b08-483d-8eab-80871011f0c0",
   "metadata": {},
   "outputs": [],
   "source": []
  }
 ],
 "metadata": {
  "kernelspec": {
   "display_name": "Python 3 (ipykernel)",
   "language": "python",
   "name": "python3"
  },
  "language_info": {
   "codemirror_mode": {
    "name": "ipython",
    "version": 3
   },
   "file_extension": ".py",
   "mimetype": "text/x-python",
   "name": "python",
   "nbconvert_exporter": "python",
   "pygments_lexer": "ipython3",
   "version": "3.12.3"
  }
 },
 "nbformat": 4,
 "nbformat_minor": 5
}
