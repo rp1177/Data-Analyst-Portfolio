{
 "cells": [
  {
   "cell_type": "markdown",
   "id": "8746cef2-20cf-4292-a18a-17ea6d14360d",
   "metadata": {},
   "source": [
    "## Webscraping GoFundMe "
   ]
  },
  {
   "cell_type": "markdown",
   "id": "7c459483-cf09-44cc-a8aa-1d2dc1b2ff51",
   "metadata": {},
   "source": [
    "#### Use selenium library to scrape data from GoFundMe in the categories: \"Creativity\" \"Education\" \"Environment\" \"NonProfit\" \"Family\" in a local area nearby "
   ]
  },
  {
   "cell_type": "markdown",
   "id": "78b449ff-26a0-476f-836b-e31fe11eae69",
   "metadata": {},
   "source": [
    "The data that will be extracted includes Campaign title, Category, Current funding amount, and Funding goal. Data scraping is used for learning purposes only and the names of the campaign makers will not be extracted. Once the data is extracted into a Python list, the list will be converted into a Pandas DataFrame for analysis. "
   ]
  },
  {
   "cell_type": "code",
   "execution_count": 1,
   "id": "fa490f76-1bb6-4c7b-9461-72a905246d34",
   "metadata": {},
   "outputs": [],
   "source": [
    "#import the necessary libraries:\n",
    "import requests\n",
    "import pandas as pd\n",
    "import matplotlib.pyplot as plt\n",
    "import seaborn as sns\n",
    "from prettytable import PrettyTable\n",
    "import time\n",
    "import selenium\n",
    "\n",
    "from selenium import webdriver\n",
    "from selenium.webdriver.chrome.options import Options\n",
    "from selenium.webdriver.common.by import By\n",
    "from selenium.webdriver.support.ui import WebDriverWait\n",
    "from selenium.webdriver.support import expected_conditions as EC\n",
    "from selenium.webdriver import ActionChains, Keys\n",
    "import time"
   ]
  },
  {
   "cell_type": "code",
   "execution_count": 46,
   "id": "2501d89f-2bdd-4170-8306-0f389a4a0b08",
   "metadata": {
    "scrolled": true
   },
   "outputs": [
    {
     "ename": "WebDriverException",
     "evalue": "Message: disconnected: not connected to DevTools\n  (failed to check if window was closed: disconnected: not connected to DevTools)\n  (Session info: chrome=126.0.6478.127)\nStacktrace:\n\tGetHandleVerifier [0x00007FF663A0EEA2+31554]\n\t(No symbol) [0x00007FF663987ED9]\n\t(No symbol) [0x00007FF66384872A]\n\t(No symbol) [0x00007FF66382FA9C]\n\t(No symbol) [0x00007FF66382F960]\n\t(No symbol) [0x00007FF66384AD51]\n\t(No symbol) [0x00007FF6638DC079]\n\t(No symbol) [0x00007FF6638BCDD3]\n\t(No symbol) [0x00007FF66388A33B]\n\t(No symbol) [0x00007FF66388AED1]\n\tGetHandleVerifier [0x00007FF663D18B1D+3217341]\n\tGetHandleVerifier [0x00007FF663D65AE3+3532675]\n\tGetHandleVerifier [0x00007FF663D5B0E0+3489152]\n\tGetHandleVerifier [0x00007FF663ABE776+750614]\n\t(No symbol) [0x00007FF66399375F]\n\t(No symbol) [0x00007FF66398EB14]\n\t(No symbol) [0x00007FF66398ECA2]\n\t(No symbol) [0x00007FF66397E16F]\n\tBaseThreadInitThunk [0x00007FFDB8BA257D+29]\n\tRtlUserThreadStart [0x00007FFDBAACAF28+40]\n",
     "output_type": "error",
     "traceback": [
      "\u001b[1;31m---------------------------------------------------------------------------\u001b[0m",
      "\u001b[1;31mWebDriverException\u001b[0m                        Traceback (most recent call last)",
      "Cell \u001b[1;32mIn[46], line 33\u001b[0m\n\u001b[0;32m     31\u001b[0m driver\u001b[38;5;241m.\u001b[39mexecute_script(\u001b[38;5;124m\"\u001b[39m\u001b[38;5;124marguments[0].scrollIntoView();\u001b[39m\u001b[38;5;124m\"\u001b[39m, elements[i])\n\u001b[0;32m     32\u001b[0m time\u001b[38;5;241m.\u001b[39msleep(\u001b[38;5;241m3\u001b[39m)\n\u001b[1;32m---> 33\u001b[0m \u001b[43melements\u001b[49m\u001b[43m[\u001b[49m\u001b[43mi\u001b[49m\u001b[43m]\u001b[49m\u001b[38;5;241;43m.\u001b[39;49m\u001b[43mclick\u001b[49m\u001b[43m(\u001b[49m\u001b[43m)\u001b[49m\n\u001b[0;32m     34\u001b[0m time\u001b[38;5;241m.\u001b[39msleep(\u001b[38;5;241m3\u001b[39m)\n\u001b[0;32m     36\u001b[0m campaign_title \u001b[38;5;241m=\u001b[39m driver\u001b[38;5;241m.\u001b[39mfind_element(By\u001b[38;5;241m.\u001b[39mCSS_SELECTOR, \u001b[38;5;124m\"\u001b[39m\u001b[38;5;124mheader.p-campaign-header\u001b[39m\u001b[38;5;124m\"\u001b[39m)\n",
      "File \u001b[1;32m~\\AppData\\Local\\Programs\\Python\\Python312\\Lib\\site-packages\\selenium\\webdriver\\remote\\webelement.py:94\u001b[0m, in \u001b[0;36mWebElement.click\u001b[1;34m(self)\u001b[0m\n\u001b[0;32m     92\u001b[0m \u001b[38;5;28;01mdef\u001b[39;00m \u001b[38;5;21mclick\u001b[39m(\u001b[38;5;28mself\u001b[39m) \u001b[38;5;241m-\u001b[39m\u001b[38;5;241m>\u001b[39m \u001b[38;5;28;01mNone\u001b[39;00m:\n\u001b[0;32m     93\u001b[0m \u001b[38;5;250m    \u001b[39m\u001b[38;5;124;03m\"\"\"Clicks the element.\"\"\"\u001b[39;00m\n\u001b[1;32m---> 94\u001b[0m     \u001b[38;5;28;43mself\u001b[39;49m\u001b[38;5;241;43m.\u001b[39;49m\u001b[43m_execute\u001b[49m\u001b[43m(\u001b[49m\u001b[43mCommand\u001b[49m\u001b[38;5;241;43m.\u001b[39;49m\u001b[43mCLICK_ELEMENT\u001b[49m\u001b[43m)\u001b[49m\n",
      "File \u001b[1;32m~\\AppData\\Local\\Programs\\Python\\Python312\\Lib\\site-packages\\selenium\\webdriver\\remote\\webelement.py:395\u001b[0m, in \u001b[0;36mWebElement._execute\u001b[1;34m(self, command, params)\u001b[0m\n\u001b[0;32m    393\u001b[0m     params \u001b[38;5;241m=\u001b[39m {}\n\u001b[0;32m    394\u001b[0m params[\u001b[38;5;124m\"\u001b[39m\u001b[38;5;124mid\u001b[39m\u001b[38;5;124m\"\u001b[39m] \u001b[38;5;241m=\u001b[39m \u001b[38;5;28mself\u001b[39m\u001b[38;5;241m.\u001b[39m_id\n\u001b[1;32m--> 395\u001b[0m \u001b[38;5;28;01mreturn\u001b[39;00m \u001b[38;5;28;43mself\u001b[39;49m\u001b[38;5;241;43m.\u001b[39;49m\u001b[43m_parent\u001b[49m\u001b[38;5;241;43m.\u001b[39;49m\u001b[43mexecute\u001b[49m\u001b[43m(\u001b[49m\u001b[43mcommand\u001b[49m\u001b[43m,\u001b[49m\u001b[43m \u001b[49m\u001b[43mparams\u001b[49m\u001b[43m)\u001b[49m\n",
      "File \u001b[1;32m~\\AppData\\Local\\Programs\\Python\\Python312\\Lib\\site-packages\\selenium\\webdriver\\remote\\webdriver.py:354\u001b[0m, in \u001b[0;36mWebDriver.execute\u001b[1;34m(self, driver_command, params)\u001b[0m\n\u001b[0;32m    352\u001b[0m response \u001b[38;5;241m=\u001b[39m \u001b[38;5;28mself\u001b[39m\u001b[38;5;241m.\u001b[39mcommand_executor\u001b[38;5;241m.\u001b[39mexecute(driver_command, params)\n\u001b[0;32m    353\u001b[0m \u001b[38;5;28;01mif\u001b[39;00m response:\n\u001b[1;32m--> 354\u001b[0m     \u001b[38;5;28;43mself\u001b[39;49m\u001b[38;5;241;43m.\u001b[39;49m\u001b[43merror_handler\u001b[49m\u001b[38;5;241;43m.\u001b[39;49m\u001b[43mcheck_response\u001b[49m\u001b[43m(\u001b[49m\u001b[43mresponse\u001b[49m\u001b[43m)\u001b[49m\n\u001b[0;32m    355\u001b[0m     response[\u001b[38;5;124m\"\u001b[39m\u001b[38;5;124mvalue\u001b[39m\u001b[38;5;124m\"\u001b[39m] \u001b[38;5;241m=\u001b[39m \u001b[38;5;28mself\u001b[39m\u001b[38;5;241m.\u001b[39m_unwrap_value(response\u001b[38;5;241m.\u001b[39mget(\u001b[38;5;124m\"\u001b[39m\u001b[38;5;124mvalue\u001b[39m\u001b[38;5;124m\"\u001b[39m, \u001b[38;5;28;01mNone\u001b[39;00m))\n\u001b[0;32m    356\u001b[0m     \u001b[38;5;28;01mreturn\u001b[39;00m response\n",
      "File \u001b[1;32m~\\AppData\\Local\\Programs\\Python\\Python312\\Lib\\site-packages\\selenium\\webdriver\\remote\\errorhandler.py:229\u001b[0m, in \u001b[0;36mErrorHandler.check_response\u001b[1;34m(self, response)\u001b[0m\n\u001b[0;32m    227\u001b[0m         alert_text \u001b[38;5;241m=\u001b[39m value[\u001b[38;5;124m\"\u001b[39m\u001b[38;5;124malert\u001b[39m\u001b[38;5;124m\"\u001b[39m]\u001b[38;5;241m.\u001b[39mget(\u001b[38;5;124m\"\u001b[39m\u001b[38;5;124mtext\u001b[39m\u001b[38;5;124m\"\u001b[39m)\n\u001b[0;32m    228\u001b[0m     \u001b[38;5;28;01mraise\u001b[39;00m exception_class(message, screen, stacktrace, alert_text)  \u001b[38;5;66;03m# type: ignore[call-arg]  # mypy is not smart enough here\u001b[39;00m\n\u001b[1;32m--> 229\u001b[0m \u001b[38;5;28;01mraise\u001b[39;00m exception_class(message, screen, stacktrace)\n",
      "\u001b[1;31mWebDriverException\u001b[0m: Message: disconnected: not connected to DevTools\n  (failed to check if window was closed: disconnected: not connected to DevTools)\n  (Session info: chrome=126.0.6478.127)\nStacktrace:\n\tGetHandleVerifier [0x00007FF663A0EEA2+31554]\n\t(No symbol) [0x00007FF663987ED9]\n\t(No symbol) [0x00007FF66384872A]\n\t(No symbol) [0x00007FF66382FA9C]\n\t(No symbol) [0x00007FF66382F960]\n\t(No symbol) [0x00007FF66384AD51]\n\t(No symbol) [0x00007FF6638DC079]\n\t(No symbol) [0x00007FF6638BCDD3]\n\t(No symbol) [0x00007FF66388A33B]\n\t(No symbol) [0x00007FF66388AED1]\n\tGetHandleVerifier [0x00007FF663D18B1D+3217341]\n\tGetHandleVerifier [0x00007FF663D65AE3+3532675]\n\tGetHandleVerifier [0x00007FF663D5B0E0+3489152]\n\tGetHandleVerifier [0x00007FF663ABE776+750614]\n\t(No symbol) [0x00007FF66399375F]\n\t(No symbol) [0x00007FF66398EB14]\n\t(No symbol) [0x00007FF66398ECA2]\n\t(No symbol) [0x00007FF66397E16F]\n\tBaseThreadInitThunk [0x00007FFDB8BA257D+29]\n\tRtlUserThreadStart [0x00007FFDBAACAF28+40]\n"
     ]
    }
   ],
   "source": [
    "options = Options()\n",
    "options.add_argument(\"user-agent=Mozilla/5.0 (Windows NT 10.0; Win64; x64) AppleWebKit/537.36 (KHTML, like Gecko) Chrome/58.0.3029.110 Safari/537.3\")\n",
    "\n",
    "fundme_campaigns = [] #list to store campaign information\n",
    "\n",
    "#the url page in question:\n",
    "url_page = \"https://www.gofundme.com/s?location-lat=40.57870&location-lng=-74.22920&location-description=Carteret&c=13&c=17&c=342&c=8&c=4\"\n",
    "\n",
    "options.add_argument(\"--headless=new\")\n",
    "driver = webdriver.Chrome(options=options)\n",
    "driver.get(url_page)\n",
    "wait = WebDriverWait(driver, 30)  # Wait up to 10 seconds for all elements in the website to load\n",
    "\n",
    "counter = 48 #start at 48 elements, increment it till it hits 1000\n",
    "\n",
    "for i in range(1000):\n",
    "\n",
    "\n",
    "    if i == counter:\n",
    "        \n",
    "        counter+=48\n",
    "        time.sleep(3)\n",
    "        load_more = driver.find_element(By.CSS_SELECTOR, \"div.hrt-disp-flex.hrt-justify-center.state-results_buttonWrapper__8XS__\")\n",
    "        load_more.click()\n",
    "        time.sleep(5)\n",
    "\n",
    "    else:\n",
    "\n",
    "        time.sleep(3)\n",
    "        elements = driver.find_elements(By.CSS_SELECTOR, \"div.full-state-list-card_mediaCardImage__edpE8\")\n",
    "        driver.execute_script(\"arguments[0].scrollIntoView();\", elements[i])\n",
    "        time.sleep(3)\n",
    "        elements[i].click()\n",
    "        time.sleep(3)\n",
    "    \n",
    "        campaign_title = driver.find_element(By.CSS_SELECTOR, \"header.p-campaign-header\")\n",
    "        funds = driver.find_element(By.CSS_SELECTOR, \"div.progress-meter_progressMeter__BYOlt\")\n",
    "        #summary = driver.find_element(By.CSS_SELECTOR, \"div.campaign-description_campaignDescription__6P_RU\")\n",
    "        category = driver.find_element(By.CSS_SELECTOR, \"a.hrt-disp-flex.hrt-align-center.hrt-link.hrt-link--gray-dark\")\n",
    "\n",
    "        fundme_campaigns.append([campaign_title.text,funds.text,category.text])\n",
    "\n",
    "        driver.back()\n",
    "        time.sleep(5)\n",
    "    \n",
    "print(fundme_campaigns)\n",
    "print(\"Number of elements found: \", len(elements))\n",
    "\n",
    "driver.close()\n"
   ]
  },
  {
   "cell_type": "code",
   "execution_count": 47,
   "id": "d2b4d4cb-942f-46fe-a113-c8bbace03573",
   "metadata": {},
   "outputs": [
    {
     "name": "stdout",
     "output_type": "stream",
     "text": [
      "338\n"
     ]
    }
   ],
   "source": [
    "print(len(fundme_campaigns)) #check how many campaigns were scraped"
   ]
  },
  {
   "cell_type": "code",
   "execution_count": 48,
   "id": "53e5aa32-ba48-4268-aa00-1cdb71235383",
   "metadata": {},
   "outputs": [
    {
     "name": "stdout",
     "output_type": "stream",
     "text": [
      "[['Help Secure a Home for Family Unjustly Evicted', '$23,700 raised of $859,000 goal\\n569 donations', 'Family'], [\"Support Zahavi Family's Recovery from Fire\", '$520,122 raised of $1,000,000 goal\\n4.2K donations', 'Family'], ['Help me to get out and complete my medicine study', '$15,268 raised of $20,000 goal\\n327 donations', 'Education'], ['Help Asmaa Family in Gaza Food Water And Shelter', '$52,379 raised of $100,000 goal\\n2.5K donations', 'Family'], ['In Memory of Kate: Support for Her Family', '$29,310 raised of $50,000 goal\\n232 donations', 'Family'], [\"Support for Herman's Family in Tragic Loss\", '$11,352 raised of $20,000 goal\\n157 donations', 'Family'], [\"Support Mike's Journey to Kidney Recovery\", '$20,390 raised of $12,000 goal\\n128 donations', 'Family'], ['Support for Deer Park Nail Spa Family', '$70,201 raised of $100,000 goal\\n1.1K donations', 'Family'], [\"Support Patricia's Children's Future\", '$23,680 raised of $10,000 goal\\n141 donations', 'Family'], ['Help Diamond Overcome Tragic Loss', '$4,708 raised of $15,000 goal\\n72 donations', 'Family'], ['Help Rebuild Lives in Southside St. Elizabeth', '$2,700 raised of $5,000 goal\\n62 donations', 'Family'], ['Help me evacuate from Gaza', '$1,666 raised of $20,000 goal\\n59 donations', 'Family'], ['Help Aya’s family to move out of Gaza to Egypt', '$4,108 raised of $48,000 goal\\n244 donations', 'Family'], [\"Join Elham's Journey to a New Start\", '$13,028 raised of $46,000 goal\\n498 donations', 'Family'], ['In Loving Memory of Javier \"Cracc\" Osorio-Mejía', '$20,495 raised of $35,000 goal\\n50 donations', 'Family'], ['Family Aid (medical bills, rent etc)', '$3,000 raised of $10,000 goal\\n47 donations', 'Family'], ['Help Massiah Find a Safe Home', '$61,828 raised of $70,000 goal\\n1.8K donations', 'Family'], ['Miftari Girls’ Education Fund', '$13,025 raised of $50,000 goal\\n129 donations', 'Family'], [\"Support for Chef Mario's Family in Need\", '$31,201 raised of $30,000 goal\\n574 donations', 'Family'], [\"Support Samuel's Family Through Tough Times\", '$5,383 raised of $100,000 goal\\n32 donations', 'Family'], [\"Fund the Abu Rass Family's Fight for Survival\", '$14,500 raised of $75,000 goal\\n737 donations', 'Family'], ['Support Jessie and Peter In their time of need', '$3,250 raised of $5,000 goal\\n29 donations', 'Family'], [\"Please don't let me be alone\", '$11,591 raised of $50,000 goal\\n241 donations', 'Family'], ['In Memory of Joan Milan: Support for her Family', '$6,309 raised of $7,500 goal\\n28 donations', 'Family'], ['Help SAVE The Eastern Monarch Butterfly From Extinction', '$737 raised of $2,500 goal\\n30 donations', 'Environment'], ['A time to support Doug (Nate) & Stefania Hollins', '$21,831 raised of $30,000 goal\\n242 donations', 'Family'], ['Help Artist Darryl D Terrell to update Computer & Camera', '$3,120 raised of $3,650 goal\\n57 donations', 'Creative'], ['Help Eliana get into seminary', '$7,805 raised of $10,000 goal\\n56 donations', 'Education'], [\"Help Ruchel Celebrate Her Son's Wedding\", '$1,240 raised of $5,000 goal\\n30 donations', 'Family'], ['Help us survive this brutal war', '$10,452 raised of $25,000 goal\\n392 donations', 'Education'], [\"Stand with Troy Diamond's Family in Tough Times\", '$1,335 raised of $20,000 goal\\n25 donations', 'Family'], ['Help Chartruice See Their Grandma Again', '$7,583 raised of $5,000 goal\\n363 donations', 'Family'], ['#Justice For Christine Fields', '$3,575 raised of $10,000 goal\\n66 donations', 'Family'], ['Support for New Mom Battling Cancer', '$5,570 raised of $8,500 goal\\n34 donations', 'Family'], [\"Help Adrian's Family Recover from Disaster\", '$13,499 raised of $15,000 goal\\n23 donations', 'Family'], ['Support Our 2,000 @ $20 Campaign!', '$36,098 raised of $40,000 goal\\n278 donations', 'Non-Profits & Charities'], ['Help NYC Family Recover from Devastating Fire', '$3,414 raised of $5,000 goal\\n155 donations', 'Family'], ['Help little Harry, who was cruelly abused by owners', '$775 raised of $4,500 goal\\n22 donations', 'Non-Profits & Charities'], ['Jamal James Kent Family Legacy Fund', '$285,577 raised of $300,000 goal\\n432 donations', 'Family'], ['Help Jim get a stair lift!', '$6,978 raised of $16,000 goal\\n261 donations', 'Family'], ['Evacuate My Children To Safe place', '$31,628 raised of $43,000 goal\\n766 donations', 'Family'], ['Help George Replace His Stolen MacBook', '$1,500 raised of $1,500 goal\\n19 donations', 'Creative'], [\"Support Ghassan Eldawoudi's Family crisis in Gaza\", '$2,100 raised of $10,000 goal\\n29 donations', 'Family'], ['Help Tasneem feed her family and bring them back to life', '$1,444 raised of $20,000 goal\\n70 donations', 'Family'], ['From Nepal to NYC: Help Samyog achieve his dream at MSM', '$765 raised of $20,000 goal\\n19 donations', 'Education'], [\"Help Daniel's Family Rebuild After A Loss\", '$3,735 raised of $20,000 goal\\n58 donations', 'Family'], ['Fight a brain tumor-Luchar contra un tumor cerebral', '$4,690 raised of $40,000 goal\\n46 donations', 'Family'], ['Help Mika bring Trans, Queer, and Survivor Stories to Life', '$860 raised of $5,000 goal\\n26 donations', 'Creative'], [\"Help Fadi and his Family Escape Gaza's War\", '$3,782 raised of $70,000 goal\\n313 donations', 'Family'], [\"Support Saumya's Cause: Educate Kids in India\", '$3,238 raised of $4,000 goal\\n53 donations', 'Education'], ['Support for Tunney Family in Tragic Loss', '$6,681 raised of $10,000 goal\\n74 donations', 'Family'], [\"Empower St. Lucia's Children with Education\", '$3,048 raised of $5,000 goal\\n56 donations', 'Education'], ['The 13 Day Farbrengen', '$9,722 raised of $25,000 goal\\n88 donations', 'Education'], ['Help Hozifa Rebuild Life After War', '$9,246 raised of $30,000 goal\\n109 donations', 'Family'], [\"Join Giuseppe's Journey to Directing\", '$285 raised of $1,000 goal\\n15 donations', 'Creative'], ['Help Us Survive this War & Complete Our Life & Education', '$934 raised of $70,000 goal\\n55 donations', 'Education'], [\"Support Paulie's Journey to Recovery\", '$6,825 raised of $52,000 goal\\n40 donations', 'Family'], ['Help Vienna Thrive: Fund Her Education at Stuart School', '$6,290 raised of $18,000 goal\\n45 donations', 'Education'], ['Ayudemos a Yesenia Por Favor', '$1,170 raised of $3,000 goal\\n14 donations', 'Family'], ['Help me achieve my American dream', '$1,160 raised of $70,000 goal\\n14 donations', 'Education'], ['C,XOXO to #1 - US Buyout', '$10,030 raised of $10,000 goal\\n120 donations', 'Creative'], [\"Help Bring My Father Eitan Avitsur's Music to Life\", '$2,771 raised of $3,700 goal\\n41 donations', 'Creative'], [\"Support Sean's Legacy: a gift for Sarah and their kids\", '$72,052 raised of $80,000 goal\\n552 donations', 'Family'], ['My kids Dad needs your help❤️', '$1,580 raised of $10,000 goal\\n22 donations', 'Family'], ['Help two refugee students thrive at UWC', '$497 raised of $452 goal\\n13 donations', 'Education'], ['Të Ndihmojmë Brielin', '$41,550 raised of $102,000 goal\\n1K donations', 'Non-Profits & Charities'], ['Help Megan put on her new play, Vice and Virtue', '$1,588 raised of $1,500 goal\\n33 donations', 'Creative'], [\"Help Gary Hipple's Family Rebuild After Fire\", '$4,060 raised of $10,000 goal\\n60 donations', 'Family'], ['Stand with Mara and Her Daughters in Need', '$3,040 raised of $5,000 goal\\n39 donations', 'Family'], ['Cheeks rushed to emergency with severe pneumonia', '$418 raised of $3,500 goal\\n12 donations', 'Non-Profits & Charities'], [\"Support for Chayanne Serrano's Road to Recovery\", '$2,966 raised of $20,000 goal\\n48 donations', 'Family'], ['In Loving Memory of Anthony Caliendo', '$98,108 raised of $100,000 goal\\n758 donations', 'Family'], ['Five Mualimmak- Battle Against Multiple Myeloma Cancer', '$13,344 raised of $100,000 goal\\n173 donations', 'Family'], [\"Support Mike's Fight and Family's Future\", '$26,731 raised of $100,000 goal\\n315 donations', 'Family'], [\"Support Rahma's Family's in Gaza to Safety\", '$282 raised of $48,000 goal\\n16 donations', 'Family'], ['Help Penina Achieve Her Seminary Dream', '$4,109 raised of $10,000 goal\\n57 donations', 'Education'], ['Help my family restore and replenish after a fire', '$4,935 raised of $6,000 goal\\n86 donations', 'Family'], ['Të Shpëtojmë Sianën', '$7,650 raised of $56,000 goal\\n267 donations', 'Non-Profits & Charities'], ['HELP AYESHA GET TO GRAD SCHOOL!', '$5,025 raised of $35,896 goal\\n82 donations', 'Education'], ['In Memory of Milton: Aid for His Family', '$1,745 raised of $25,000 goal\\n11 donations', 'Family'], ['Help Carriacou Rise from the Ruins', '$3,375 raised of $100,000 goal\\n35 donations', 'Environment'], ['Help Avery Overcome His Financial Struggles', '$2,201 raised of $10,000 goal\\n14 donations', 'Family'], [\"Support Hallie, Aria, and Aviya's Creative Sojourn in France\", '$2,317 raised of $6,323 goal\\n34 donations', 'Creative'], ['Help Zuriel Achieve His Nursing Dream', '$1,015 raised of $2,200 goal\\n12 donations', 'Education'], [\"Help Ariel Lapp's Journey to Yeshiva\", '$1,831 raised of $15,000 goal\\n21 donations', 'Education'], ['Summer Break can be Difficult for Some', '$2,155 raised of $10,000 goal\\n15 donations', 'Education'], ['Documentary film A Way to Be Together', '$1,405 raised of $7,000 goal\\n19 donations', 'Creative'], [\"Umana Family's Plea for Father's Surgery\", '$975 raised of $30,000 goal\\n14 donations', 'Family'], [\"Honoring John: Support His Family's Journey\", '$18,535 raised of $50,000 goal\\n97 donations', 'Family'], ['Help Norah Overcome Her Financial Hold', '$2,000 raised of $2,000 goal\\n10 donations', 'Education'], [\"Invest in Genesis' Future with TeenSHARP\", '$230 raised of $350 goal\\n10 donations', 'Education'], ['Help Bring my First Film to Life!', '$5,820 raised of $6,000 goal\\n53 donations', 'Creative'], ['Stand with Lourdes and Her Children', '$3,110 raised of $50,000 goal\\n89 donations', 'Family'], [\"Support Sharjah M'Bodji's Study Abroad Dream\", '$3,650 raised of $10,000 goal\\n16 donations', 'Education'], ['Support my journey in becoming my best self in seminary!', '$1,938 raised of $12,000 goal\\n29 donations', 'Education'], ['Please help rebuild the lives of Zain and his fami', '$4,383 raised of $35,000 goal\\n138 donations', 'Family'], ['2024 Ghana Mission', '$1,901 raised of $5,000 goal\\n42 donations', 'Education'], ['Support Our Grand Orchestra Performance in Zimbabwe!', '$1,126 raised of $5,000 goal\\n13 donations', 'Creative'], ['Help Kelly Overcome Her Health Crisis', '$330 raised of $20,000 goal\\n9 donations', 'Family'], ['Dusting off my Running Shoes for Zack to go to Carnegie!', '$495 raised of $2,700 goal\\n9 donations', 'Education'], ['Assist a Mom in Her Fight Against Adversity', '$440 raised of $3,000 goal\\n9 donations', 'Family'], ['Reggie Wingnutz - upcoming Album', '$1,245 raised of $11,000 goal\\n17 donations', 'Creative'], [\"Help 'KIN' Crew Make Their NYC Theater Debut\", '$3,100 raised of $3,000 goal\\n22 donations', 'Creative'], ['Help Yousef’s family to save and to rebuild their life', '$6,754 raised of $100,000 goal\\n228 donations', 'Family'], ['Save the Seagrass:Lemnos Marine Conservation Expedition 2024', '$6,110 raised of $100,000 goal\\n31 donations', 'Environment'], ['Help the Burada family rebuild', '$5,485 raised of $20,000 goal\\n51 donations', 'Family'], [\"Support Madison's Short Dance Film 'By Cut Or Caress'\", '$3,335 raised of $3,000 goal\\n28 donations', 'Creative'], ['Support Autism ALLways in Memory of Daniel Blumberg', '$3,004 raised of $1,000 goal\\n46 donations', 'Education'], ['Stand with Sonia in Her Time of Need', '$1,150 raised of $2,000 goal\\n12 donations', 'Family'], ['Help Kris Welcome His Newborn Son', '$9,194 raised of $10,000 goal\\n85 donations', 'Family'], [\"Support Samantha's Artistic Journey in London\", '$4,655 raised of $6,000 goal\\n17 donations', 'Education'], ['Help Support my Resilient Mother through Cancer and Grief', '$360 raised of $10,000 goal\\n8 donations', 'Family'], ['Fuel WITS, a NEW MUSICAL @ Philly Fringe 2024!', '$850 raised of $15,000 goal\\n8 donations', 'Creative'], [\"Support Dina's Children's Future\", '$8,200 raised of $35,000 goal\\n584 donations', 'Family'], ['Support for DSNY Sanitation Worker Wilson Yuen & his family', '$14,791 raised of $100,000 goal\\n173 donations', 'Family'], ['Help Send Two Kids to a Jewish Camp for the 1st Time!', '$8,479 raised of $12,000 goal\\n40 donations', 'Family'], ['The 2000 Challenge: A Walk For Recovery', '$8,544 raised of $20,000 goal\\n74 donations', 'Non-Profits & Charities'], ['Help Joanne and Mike Rebuild After Fire', '$33,223 raised of $30,000 goal\\n527 donations', 'Family'], ['Help Muhammad and his family escape from Gaza and reunite.', '$750 raised of $40,000 goal\\n38 donations', 'Family'], ['Help the De Palma - Crugnola family after postpartum stroke.', '$4,918 raised of $12,000 goal\\n37 donations', 'Family'], [\"Support Rishanna's Journey to Temple University\", '$1,645 raised of $20,000 goal\\n13 donations', 'Education'], [\"Support Kathy's Battle Against Leiomyosarcoma\", '$16,833 raised of $15,000 goal\\n144 donations', 'Family'], ['Help two medical students evacuate Sudan with their family', '$492 raised of $45,000 goal\\n19 donations', 'Education'], [\"Help Yeena Bring 'Welcome to my Room' to Edinburgh Fringe!\", '$1,070 raised of $5,000 goal\\n19 donations', 'Creative'], ['Bring a Weasel and a Pint of Your Own Blood: WeaselFest 2024', '$886 raised of $15,000 goal\\n8 donations', 'Creative'], ['Help Dante Home to His Family! It Begins with YOU!', '$3,916 raised of $10,000 goal\\n57 donations', 'Family'], [\"Help Rebuild Our Parent's Home and Lives\", '$2,118 raised of $30,000 goal\\n30 donations', 'Family'], ['In loving memory of Janet Ortiz Olivera', '$3,459 raised of $25,000 goal\\n55 donations', 'Family'], ['21 Day Arabic & Hebrew Sahaja Yoga courses', '$10,111 raised of $11,000 goal\\n125 donations', 'Education'], ['Help Nora Graduate On Time!', '$930 raised of $2,300 goal\\n27 donations', 'Education'], ['Help my Brother and his Family', '$795 raised of $6,000 goal\\n16 donations', 'Family'], [\"Going the Distance to Meet Each Child's Individual Needs\", '$1,815 raised of $100,000 goal\\n16 donations', 'Education'], ['Hurricane relief for Waikiki, a Treasure Beach Landmark', '$400 raised of $40,000 goal\\n7 donations', 'Family'], ['Help Short Film \"Don\\'t Be A Stranger\" Reach Festivals', '$190 raised of $350 goal\\n7 donations', 'Creative'], ['Help Bring This Lesbian Comedy Pilot to Life', '$545 raised of $50,000 goal\\n7 donations', 'Creative'], ['Të shpëtojmë jetën e Albanit', '$10,706 raised of $63,000 goal\\n356 donations', 'Non-Profits & Charities'], ['Todos unidos por una noble causa por el bebé Matías Castaño', '$940 raised of $10,000 goal\\n15 donations', 'Family'], ['Rallying for Real Estate Mentor Sekou Pyle', '$2,418 raised of $10,000 goal\\n14 donations', 'Family'], ['Honoring Torrey: Support for Her Loved Ones', '$930 raised of $20,000 goal\\n9 donations', 'Family'], [\"Support Jessica's Journey to Dharma Leadership\", '$1,743 raised of $2,000 goal\\n44 donations', 'Education'], ['Honoring Corey', '$1,100 raised of $25,000 goal\\n43 donations', 'Family'], ['Empower Refugee Education with New Roots, Brighter Futures', '$4,616 raised of $5,000 goal\\n43 donations', 'Education'], ['DONATE YOUR JUNK: HELP CREATIVE WORLD BUILD A COMPUTER LAB', '$830 raised of $3,000 goal\\n13 donations', 'Education'], [\"Let's help the Dell'Accio Family !\", '$27,906 raised of $50,000 goal\\n283 donations', 'Family'], ['Support Daniel’s Recovery', '$19,691 raised of $50,000 goal\\n277 donations', 'Family'], [\"Help My Uncle's Family Settle in the U.S.\", '$575 raised of $5,000 goal\\n12 donations', 'Family'], [\"Join Jasmine's Sprint Triathlon for Youth Employment\", '$9,725 raised of $10,000 goal\\n37 donations', 'Education'], ['Support Sahar and her husband’s Journey to Rebuild Life', '$439 raised of $20,000 goal\\n36 donations', 'Family'], ['Help Bayan Rebuild Life After War', '$575 raised of $100,000 goal\\n19 donations', 'Family'], [\"Help Maha and her family leave Gaza before it's too late\", '$250 raised of $30,000 goal\\n19 donations', 'Family'], ['Muslim, BIPOC, low-income family business BURNED', '$10,283 raised of $50,000 goal\\n255 donations', 'Family'], ['Help fund laptop for my upcoming college education', '$515 raised of $1,500 goal\\n7 donations', 'Education'], ['Help Displaced Sudanese Students Finish Med School', '$120 raised of $9,000 goal\\n7 donations', 'Education'], ['Celebrate Horton by the Stream’s 30th Anniversary !!', '$1,610 raised of $5,000 goal\\n18 donations', 'Creative'], ['Support for Hawaii Nail Salon Family', '$3,275 raised of $3,000 goal\\n77 donations', 'Family'], [\"Support Safi's Journey to Become a Nurse\", '$1,760 raised of $10,000 goal\\n74 donations', 'Education'], ['Help Sophia Hanziuk and Sasha Sereda get to College in US', '$35,620 raised of $64,000 goal\\n73 donations', 'Education'], [\"Fuel Steven T.'s Metabolic Therapy Education\", '$465 raised of $750 goal\\n10 donations', 'Education'], [\"Support Destiny's College Journey to Felician University\", '$620 raised of $20,000 goal\\n10 donations', 'Education'], [\"Support Sara's Family in Their Grief\", '$9,855 raised of $15,000 goal\\n225 donations', 'Family'], ['Help Me Finish My Education', '$685 raised of $16,000 goal\\n30 donations', 'Education'], ['Help Fund New Work in NYC :)', '$275 raised of $600 goal\\n6 donations', 'Creative'], ['Support Education in Westpoint, Liberia with Wellington', '$105 raised of $500 goal\\n6 donations', 'Education'], [\"Support Brie's Fight for Her Child\", '$785 raised of $10,000 goal\\n6 donations', 'Family'], ['Help support the tragic loss of Rene Spratt', '$7,185 raised of $15,000 goal\\n67 donations', 'Family'], ['Sav Inclusive Expansion Campaign 2024', '$85,356 raised of $100,000 goal\\n213 donations', 'Non-Profits & Charities'], ['Help Jackelin Replace Essential Dental Loupe Glasses', '$188 raised of $1,500 goal\\n9 donations', 'Education'], ['Help Frank Mancuso and Stephen Kelly make Mikey Blue Eyes!', '$2,525 raised of $60,000 goal\\n15 donations', 'Creative'], ['Urgent Assistance for Javier and Daughter', '$5,510 raised of $5,405 goal\\n62 donations', 'Family'], ['Help me and my family survive this famine', '$552 raised of $4,000 goal\\n14 donations', 'Family'], ['Help Give Victoria a Peaceful Goodbye', '$2,938 raised of $4,000 goal\\n58 donations', 'Family'], ['Kaysilyn & Sebastian Wedding and the Rockhouse Foundation', '$4,700 raised of $10,000 goal\\n8 donations', 'Non-Profits & Charities'], ['Help an Injured Teenager Regain Part of the Life he Lost', '$3,305 raised of $50,000 goal\\n25 donations', 'Family'], ['Help Kiara Cross the Finish Line', '$450 raised of $5,000 goal\\n13 donations', 'Education'], [\"Help Launch Madame Vivien V's Podcast\", '$1,075 raised of $10,000 goal\\n13 donations', 'Creative'], ['Support Jason Marshall in His Time of Need', '$16,192 raised of $50,000 goal\\n178 donations', 'Family'], ['If Words Could Talk Play at TNC’s 2024 Dream Up', '$2,860 raised of $4,500 goal\\n24 donations', 'Creative'], [\"Holistic Education Abroad: Help Fund Yasielle's Endeavors\", '$3,128 raised of $7,000 goal\\n54 donations', 'Education'], [\"Support John Bueno's Journey to Stability\", '$655 raised of $5,000 goal\\n23 donations', 'Education'], [\"Help and Support Daisy's Fight for Elpidio's Guardianship\", '$531 raised of $12,000 goal\\n7 donations', 'Family'], [\"Support Alexandra's Return to Photography\", '$1,730 raised of $15,000 goal\\n22 donations', 'Creative'], ['Help Sharon Clear Her Outstanding Tuition and Expenses', '$3,825 raised of $32,000 goal\\n50 donations', 'Education'], [\"Support Sue's Fight for Skyler's Rights\", '$275 raised of $25,000 goal\\n11 donations', 'Family'], ['Help Support David Through the Next Phase of His Life !!!', '$9,115 raised of $10,000 goal\\n144 donations', 'Family'], ['Help the Alhayek family start fresh in Canada', '$7,045 raised of $25,000 goal\\n144 donations', 'Family'], ['Help “US” bring this vision to life.', '$3,160 raised of $8,000 goal\\n45 donations', 'Creative'], ['Give Charlie Wings', '$3,269 raised of $9,210 goal\\n45 donations', 'Education'], ['Help Amal to coutine school and celebrate her wedding!', '$11,445 raised of $60,000 goal\\n1K donations', 'Education'], ['URGENT APPEAL : Please Help Bobby and Spirit', '$1,605 raised of $4,500 goal\\n44 donations', 'Family'], ['Help the Pettreys After Losing Their Home to a Fire', '$14,225 raised of $25,000 goal\\n131 donations', 'Family'], ['Urgen:help my family evacuate from the Gaza and rebuild life', '$2,062 raised of $50,000 goal\\n131 donations', 'Family'], [\"Sowing Seeds of Success-Sunflower Nation's Scholarship Fund\", '$5,578 raised of $5,000 goal\\n41 donations', 'Education'], [\"Support Alex's Senior Thesis Film Project\", '$810 raised of $5,000 goal\\n18 donations', 'Creative'], ['Urgent Relief for a Mother of Six in Northern Gaza', '$3,719 raised of $7,000 goal\\n128 donations', 'Family'], ['Help me do Shana Bet!', '$2,634 raised of $8,000 goal\\n39 donations', 'Education'], [\"Fund Gedalya Kornblau's Yeshiva Education\", '$743 raised of $24,000 goal\\n17 donations', 'Education'], ['SEND THIS POET TO THE ARCTIC!', '$1,050 raised of $11,175 goal\\n17 donations', 'Creative'], ['Help These Chickens Take Their Play To The Edinburgh Fringe', '$16,371 raised of $35,000 goal\\n38 donations', 'Creative'], ['In Memory of Dyron: Support for His Boys', '$35,629 raised of $50,000 goal\\n120 donations', 'Education'], [\"Support Nekruz's Education at CEU and Bard College\", '$1,253 raised of $10,721 goal\\n37 donations', 'Education'], [\"Support for Sister's Accessible Living\", '$500 raised of $2,000 goal\\n6 donations', 'Family'], ['Contribute to the Alimiyyah Students Graduation', '$610 raised of $10,000 goal\\n5 donations', 'Education'], [\"Help Na'Kiya Hall Bring 'Antithesis' to Life\", '$95 raised of $9,000 goal\\n5 donations', 'Creative'], ['LAUGHTER IS THE BEST MEDICINE !', '$210 raised of $10,000 goal\\n5 donations', 'Creative'], [\"Help Honor James Cruz's Legacy\", '$120 raised of $5,000 goal\\n5 donations', 'Family'], ['Scoop to perform Mutation in Venice, Italy July 24-27, 2024', '$445 raised of $1,500 goal\\n5 donations', 'Creative'], ['Stand with Aislinn and Jared in Their Battle', '$23,700 raised of $25,000 goal\\n113 donations', 'Family'], ['Camp fund', '$3,159 raised of $5,000 goal\\n35 donations', 'Family'], [\"Learn More About Alicia's Journey to Harvard!\", '$6,375 raised of $80,000 goal\\n35 donations', 'Education'], ['Help a Family To Have A Secure Life', '$90 raised of $5,000 goal\\n8 donations', 'Family'], ['Support Flood Victims in Afg', '$7,478 raised of $10,000 goal\\n106 donations', 'Family'], ['Të Shpëtojmë Ranibienin', '$23,536 raised of $54,000 goal\\n737 donations', 'Non-Profits & Charities'], ['Help make Mythos Theodora: A Greek Parable Cabaret', '$2,760 raised of $15,000 goal\\n14 donations', 'Creative'], [\"Support Julia's Journey to Edinburgh Fringe\", '$3,105 raised of $11,000 goal\\n31 donations', 'Creative'], ['Andy (Edmon (Huska) Loncarevió', '$83,751 raised of $100,000 goal\\n707 donations', 'Education'], [\"Fund Whitney's Summer Classes at Berklee\", '$325 raised of $328 goal\\n7 donations', 'Education'], ['Help Recent Graduates produce New One-Act!', '$245 raised of $500 goal\\n7 donations', 'Creative'], ['Support Saja continue her dream studying medicine', '$435 raised of $30,000 goal\\n7 donations', 'Family'], ['Help Yoshi Weinberg Reach Their Full Potential', '$1,894 raised of $25,000 goal\\n30 donations', 'Creative'], ['Help Ignite the Magic of cinema', '$1,710 raised of $30,000 goal\\n30 donations', 'Creative'], ['support BODY: my first full-length music video', '$5,713 raised of $8,000 goal\\n95 donations', 'Creative'], ['Help Jourdan Study Abroad in Athens, Greece!', '$3,750 raised of $16,000 goal\\n13 donations', 'Education'], ['My family needs help in Gaza to get out', '$126 raised of $100,000 goal\\n13 donations', 'Family'], ['Help Charlyn Willis Become a Registered Nurse Midwife', '$4,930 raised of $94,500 goal\\n93 donations', 'Education'], ['Raise money for my next film', '$4,383 raised of $50,000 goal\\n29 donations', 'Creative'], ['Stand with Callie Swift in Her Health Battle', '$2,310 raised of $2,000 goal\\n28 donations', 'Family'], [\"Support Katie's Journey to the Fringe Festival\", '$1,175 raised of $3,000 goal\\n28 donations', 'Creative'], ['Help me restart a new life after l lost everything', '$588 raised of $60,000 goal\\n12 donations', 'Family'], ['Support the ongoing efforts of the Fulton Arts Foundation!', '$990 raised of $10,000 goal\\n11 donations', 'Creative'], ['Support the 2024 Summer City Planning Institute', '$3,375 raised of $5,000 goal\\n25 donations', 'Education'], [\"️ Support Susan's Fight Against Breast Cancer ️\", '$1,130 raised of $1,750 goal\\n25 donations', 'Family'], [\"Support Everstar Studio's XR Historical Journey\", '$2,533 raised of $650,000 goal\\n25 donations', 'Creative'], ['Bridging the Digital Divide at Blair Serem School in Kenya', '$12,600 raised of $10,000 goal\\n24 donations', 'Education'], ['Help Honor Catalina’s Legacy', '$19,257 raised of $100,000 goal\\n549 donations', 'Family'], ['Join the Family Reunion Bus Ride', '$730 raised of $1,100 goal\\n10 donations', 'Family'], [\"Support Joe LaMarca's Family in Tough Times\", '$8,010 raised of $25,000 goal\\n72 donations', 'Family'], ['#Justice For Christine Fields', '$3,580 raised of $10,000 goal\\n67 donations', 'Family'], [\"Supporting Alyssa's Choreography for Summer-Fall 2024\", '$3,110 raised of $4,350 goal\\n21 donations', 'Creative'], ['Help My Family Flee Genocide and Find Refuge', '$50,141 raised of $72,000 goal\\n471 donations', 'Family'], ['Join the Cause: Support Giving Jamaica Chances', '$4,188 raised of $5,200 goal\\n64 donations', 'Education'], ['Help Thomas Achieve His Dream: A School Trip to Europe', '$1,085 raised of $4,500 goal\\n19 donations', 'Education'], [\"Support Gabriela Cruz's Musical Journey\", '$4,025 raised of $8,000 goal\\n19 donations', 'Education'], [\"Help Fund My Student's Seminary Year\", '$8,369 raised of $20,000 goal\\n59 donations', 'Education'], ['Help Joseph Fight for his Son', '$900 raised of $20,000 goal\\n8 donations', 'Family'], ['Pai Nam Kan (Go Together): Lao American Artists Zine', '$255 raised of $2,100 goal\\n8 donations', 'Creative'], [\"Support Brianah's College Dream\", '$780 raised of $20,000 goal\\n8 donations', 'Education'], ['Help two orphaned children left behind after tragic passing', '$73,800 raised of $150,000 goal\\n417 donations', 'Family'], ['Support Swans Pride Scholarships for LGBTQ and ALLIES', '$9,632 raised of $30,000 goal\\n57 donations', 'Education'], ['Support Sam LaFemina in Her Loss', '$23,505 raised of $25,000 goal\\n404 donations', 'Family'], ['Support Bronx Students: Back-to-School Drive', '$320 raised of $5,000 goal\\n4 donations', 'Education'], [\"Support a Student's Dream to Study at NUS\", '$255 raised of $50,000 goal\\n4 donations', 'Education'], ['Hurricane Beryl Relief for Displaced Family', '$328 raised of $10,000 goal\\n4 donations', 'Family'], ['Help Hott Lettis Produce THE LAST GRAIN OF RICE', '$1,305 raised of $6,000 goal\\n4 donations', 'Creative'], [\"Support Dmytro's Musical Dream Amidst War\", '$300 raised of $15,000 goal\\n4 donations', 'Education'], ['Bring \"Here and There\" to Screen: We Need Your Support', '$250 raised of $9,000 goal\\n4 donations', 'Creative'], [\"Help Ease Eddie's Health Worries\", '$175 raised of $500 goal\\n4 donations', 'Family'], ['Blue CATerpillar', '$230 raised of $1,000 goal\\n4 donations', 'Creative'], [\"Support Sophia's Show in New York!\", '$220 raised of $5,000 goal\\n4 donations', 'Creative'], [\"Fund a Master's Thesis Film on Parental Influence\", '$95 raised of $6,000 goal\\n4 donations', 'Creative'], [\"Support Sawyer's Mom in his Miraculous Recovery Journey\", '$2,700 raised of $6,000 goal\\n54 donations', 'Family'], ['Support the \"OCEAN IN A TEACUP\" Industry Reading!', '$7,012 raised of $22,000 goal\\n53 donations', 'Creative'], ['Help bring the world of Niña Linda to life!', '$1,970 raised of $2,000 goal\\n53 donations', 'Creative'], [\"Join the Nkellefacks' IVF Fundraising Effort\", '$520 raised of $15,000 goal\\n16 donations', 'Family'], ['Help me go to seminary', '$5,360 raised of $25,000 goal\\n48 donations', 'Education'], [\"Support Aisha's Journey to Education\", '$630 raised of $1,000 goal\\n15 donations', 'Education'], ['Please help us evacuate me and my children from Gaza', '$423 raised of $20,000 goal\\n15 donations', 'Family'], [\"Stand with Deanna D'arco's Family\", '$17,867 raised of $20,000 goal\\n339 donations', 'Family'], ['Rahma', '$10,719 raised of $25,000 goal\\n337 donations', 'Family'], ['Help Zemnovich Family Rebuild After Fire', '$74,560 raised of $150,000 goal\\n333 donations', 'Family'], ['Savannah’s recovery fund', '$23,612 raised of $35,000 goal\\n328 donations', 'Family'], [\"Support Molly Stern's Play 'Who'd Love Lucy?'\", '$1,358 raised of $2,500 goal\\n14 donations', 'Creative'], ['Help Win Rozario’s family move from home he was murdered in', '$22,474 raised of $25,000 goal\\n320 donations', 'Non-Profits & Charities'], [\"Support Charlese's College Dream After Loss\", '$2,960 raised of $10,000 goal\\n44 donations', 'Education'], ['Help Support Wallisch Homestead for my 50th', '$175 raised of $800 goal\\n6 donations', 'Education'], ['When We Were Young and Unafraid Play', '$4,915 raised of $5,000 goal\\n43 donations', 'Creative'], [\"Support Zoe's Children in Their Time of Need\", '$50,200 raised of $25,000 goal\\n305 donations', 'Family'], ['Hadley needs surgery by a board-certified surgeon', '$1,348 raised of $6,000 goal\\n40 donations', 'Non-Profits & Charities'], ['Help Rob Sala avoid financial ruin', '$8,470 raised of $100,000 goal\\n40 donations', 'Family'], ['Support AYB Summer Session 2024', '$4,230 raised of $15,000 goal\\n39 donations', 'Non-Profits & Charities'], [\"Support Hannah's Jazz Education Aspirations at NEC\", '$2,150 raised of $10,000 goal\\n12 donations', 'Education'], ['Thesis Short Film 99 and half', '$830 raised of $18,000 goal\\n12 donations', 'Creative'], ['Help Anthony Bring Queer Stories to Life', '$650 raised of $5,000 goal\\n12 donations', 'Creative'], ['Honoring the Life and Memory of Zerene', '$32,571 raised of $50,000 goal\\n273 donations', 'Family'], ['School Supplies For Children in Ghana', '$1,600 raised of $3,000 goal\\n37 donations', 'Education'], ['Karl Possible Fund', '$137,210 raised of $200,000 goal\\n262 donations', 'Education'], [\"Stand with Saher's Family in Their Time of Need\", '$807 raised of $45,000 goal\\n36 donations', 'Family'], ['Public Health Summer Program in the Dominican Republic', '$3,040 raised of $4,400 goal\\n36 donations', 'Education'], ['Support Luis Massawe’s trip to a music festival', '$3,930 raised of $4,000 goal\\n36 donations', 'Education'], ['Supporting Deer Park Nail Salon Families in Tragic Times', '$1,080 raised of $600,000 goal\\n11 donations', 'Family'], ['Stand with The Zito Family in Their Time of Need', '$23,202 raised of $25,000 goal\\n248 donations', 'Family'], [\"Support Mika's Yaguchi Family Through Tough Times\", '$81,420 raised of $10,000 goal\\n247 donations', 'Family'], ['Victim of route 80', '$9,682 raised of $15,000 goal\\n246 donations', 'Family'], [\"Support State Finalist, Olivia Gray, For Miss New Jersey '24\", '$535 raised of $5,000 goal\\n10 donations', 'Education'], [\"Rebuilding Hope For wafa's Family And Saving Them\", '$1,930 raised of $135,000 goal\\n10 donations', 'Family'], ['Help Rose Prepare for Her Twin Girls', '$350 raised of $500 goal\\n10 donations', 'Family'], ['Empower Asylum Seekers with Education & Hope', '$900 raised of $20,000 goal\\n10 donations', 'Non-Profits & Charities'], ['Empower NYC Students with Great Leaps', '$620 raised of $1,500 goal\\n10 donations', 'Education'], ['My family who lost everything in the flood in Brazil.', '$2,112 raised of $10,000 goal\\n31 donations', 'Family'], ['Support a Family Rebuilding After a House Fire', '$1,975 raised of $5,000 goal\\n31 donations', 'Family'], ['Help support my dream College Opportunity.', '$1,335 raised of $20,000 goal\\n30 donations', 'Education'], ['Support Rewaa to build a better future for her children', '$958 raised of $60,000 goal\\n30 donations', 'Family'], ['Support the Reneri-Battaglia Family After Devastating Fire', '$20,160 raised of $20,000 goal\\n215 donations', 'Family'], ['Cam in support of her sister & brother', '$2,650 raised of $10,000 goal\\n29 donations', 'Family'], [\"Sportsmen's Club: Spike it! For Autism\", '$2,900 raised of $10,000 goal\\n29 donations', 'Education'], ['Help a daughter help her single mother pay for her schooling', '$131 raised of $25,000 goal\\n4 donations', 'Education'], [\"Fuel Nicole's Residency at SMUSH Gallery\", '$160 raised of $1,500 goal\\n4 donations', 'Creative'], ['Help to pay college health insurance', '$423 raised of $1,000 goal\\n9 donations', 'Education'], ['Fueling HBCU Dreams for Newark Students', '$550 raised of $250,000 goal\\n9 donations', 'Education'], ['Help Doaa Massoud Secure a Brighter Future', '$185 raised of $10,000 goal\\n9 donations', 'Education'], ['DOORMAN Short Film', '$3,700 raised of $14,000 goal\\n9 donations', 'Creative'], ['Esteban hit by a car, left to suffer for 7 days!', '$1,392 raised of $4,500 goal\\n27 donations', 'Non-Profits & Charities'], ['MERCE REHEARSE: South-West Summer Tour', '$3,245 raised of $4,500 goal\\n27 donations', 'Creative'], ['Help Isa Record an Album!', '$1,235 raised of $2,000 goal\\n26 donations', 'Creative'], ['Help haythem rebuild life in Gaza', '$299 raised of $10,000 goal\\n8 donations', 'Family'], [\"'Waves' - An Experimental Short Film\", '$631 raised of $10,000 goal\\n8 donations', 'Creative'], ['One step closer to the future', '$520 raised of $3,000 goal\\n8 donations', 'Education'], [\"Support Billy Larsen's Road to Recovery\", '$25,311 raised of $40,000 goal\\n183 donations', 'Family'], ['The Gildea Family', '$19,400 raised of $25,000 goal\\n182 donations', 'Education'], ['PS770 PTA Spring Fundraiser', '$31,640 raised of $25,000 goal\\n174 donations', 'Non-Profits & Charities'], [\"Help Launch NYC's Fatherhood Resource Center\", '$4,025 raised of $25,000 goal\\n24 donations', 'Family'], ['Support our next production!', '$3,220 raised of $3,700 goal\\n24 donations', 'Creative'], ['Help the Robertson Brothers Keep Their Home', '$20,621 raised of $250,000 goal\\n173 donations', 'Family'], ['HELP US GO TO FRINGE!', '$4,085 raised of $5,000 goal\\n23 donations', 'Creative'], ['In Memory of Karina', '$11,475 raised of $10,000 goal\\n165 donations', 'Family'], [\"Assist PJ's Family Through Their Loss\", '$18,380 raised of $20,000 goal\\n163 donations', 'Family'], ['Help Joanna get to Hollywood and Edinburgh Fringe Festivals', '$16,050 raised of $33,000 goal\\n163 donations', 'Creative'], ['Help bring Mika home', '$161 raised of $5,000 goal\\n7 donations', 'Family'], ['Help Lashon Market And Promote Her New Single “MOOLAH”', '$570 raised of $5,000 goal\\n7 donations', 'Creative'], ['Help to save and support my family', '$215 raised of $80,000 goal\\n7 donations', 'Family'], [\"Sam's 2024 NYC Marathon with Read Ahead\", '$1,200 raised of $1,500 goal\\n7 donations', 'Education'], [\"Fund Eva's Master's Program and Comic Dreams\", '$1,325 raised of $10,000 goal\\n22 donations', 'Education'], ['Ayúdame con la operación de mi bebé', '$20 raised of $50,000 goal\\n3 donations', 'Family'], [\"Help Les Moore Publish 'The Definition of Hate'\", '$170 raised of $3,000 goal\\n3 donations', 'Education'], ['Buy Ally new raybans', '$50 raised of $250 goal\\n3 donations', 'Family'], ['Medical Care for Remote Andean Community of Piñan', '$185 raised of $3,500 goal\\n3 donations', 'Non-Profits & Charities'], [\"Support Blake's Dream to Study at Seton Hall University\", '$120 raised of $18,000 goal\\n3 donations', 'Education'], ['In memory of a loving father', '$310 raised of $2,500 goal\\n3 donations', 'Family'], ['Really need help getting into college', '$60 raised of $5,000 goal\\n3 donations', 'Family']]\n"
     ]
    }
   ],
   "source": [
    "print(fundme_campaigns) #checking the list"
   ]
  },
  {
   "cell_type": "markdown",
   "id": "27eb5f21-1174-4e46-ae22-5f54da320e0f",
   "metadata": {},
   "source": [
    "Convert the following list \"fundme_campaigns\" into a Pandas DataFrame with the columns: Campaign title, Money raised, and Category."
   ]
  },
  {
   "cell_type": "code",
   "execution_count": 49,
   "id": "34a7dbd4-87e0-4427-ba20-1cdd91d9b64f",
   "metadata": {},
   "outputs": [
    {
     "data": {
      "text/html": [
       "<div>\n",
       "<style scoped>\n",
       "    .dataframe tbody tr th:only-of-type {\n",
       "        vertical-align: middle;\n",
       "    }\n",
       "\n",
       "    .dataframe tbody tr th {\n",
       "        vertical-align: top;\n",
       "    }\n",
       "\n",
       "    .dataframe thead th {\n",
       "        text-align: right;\n",
       "    }\n",
       "</style>\n",
       "<table border=\"1\" class=\"dataframe\">\n",
       "  <thead>\n",
       "    <tr style=\"text-align: right;\">\n",
       "      <th></th>\n",
       "      <th>Campaign title</th>\n",
       "      <th>Money raised</th>\n",
       "      <th>Category</th>\n",
       "    </tr>\n",
       "  </thead>\n",
       "  <tbody>\n",
       "    <tr>\n",
       "      <th>0</th>\n",
       "      <td>Help Secure a Home for Family Unjustly Evicted</td>\n",
       "      <td>$23,700 raised of $859,000 goal\\n569 donations</td>\n",
       "      <td>Family</td>\n",
       "    </tr>\n",
       "    <tr>\n",
       "      <th>1</th>\n",
       "      <td>Support Zahavi Family's Recovery from Fire</td>\n",
       "      <td>$520,122 raised of $1,000,000 goal\\n4.2K donat...</td>\n",
       "      <td>Family</td>\n",
       "    </tr>\n",
       "    <tr>\n",
       "      <th>2</th>\n",
       "      <td>Help me to get out and complete my medicine study</td>\n",
       "      <td>$15,268 raised of $20,000 goal\\n327 donations</td>\n",
       "      <td>Education</td>\n",
       "    </tr>\n",
       "    <tr>\n",
       "      <th>3</th>\n",
       "      <td>Help Asmaa Family in Gaza Food Water And Shelter</td>\n",
       "      <td>$52,379 raised of $100,000 goal\\n2.5K donations</td>\n",
       "      <td>Family</td>\n",
       "    </tr>\n",
       "    <tr>\n",
       "      <th>4</th>\n",
       "      <td>In Memory of Kate: Support for Her Family</td>\n",
       "      <td>$29,310 raised of $50,000 goal\\n232 donations</td>\n",
       "      <td>Family</td>\n",
       "    </tr>\n",
       "    <tr>\n",
       "      <th>...</th>\n",
       "      <td>...</td>\n",
       "      <td>...</td>\n",
       "      <td>...</td>\n",
       "    </tr>\n",
       "    <tr>\n",
       "      <th>333</th>\n",
       "      <td>Buy Ally new raybans</td>\n",
       "      <td>$50 raised of $250 goal\\n3 donations</td>\n",
       "      <td>Family</td>\n",
       "    </tr>\n",
       "    <tr>\n",
       "      <th>334</th>\n",
       "      <td>Medical Care for Remote Andean Community of Piñan</td>\n",
       "      <td>$185 raised of $3,500 goal\\n3 donations</td>\n",
       "      <td>Non-Profits &amp; Charities</td>\n",
       "    </tr>\n",
       "    <tr>\n",
       "      <th>335</th>\n",
       "      <td>Support Blake's Dream to Study at Seton Hall U...</td>\n",
       "      <td>$120 raised of $18,000 goal\\n3 donations</td>\n",
       "      <td>Education</td>\n",
       "    </tr>\n",
       "    <tr>\n",
       "      <th>336</th>\n",
       "      <td>In memory of a loving father</td>\n",
       "      <td>$310 raised of $2,500 goal\\n3 donations</td>\n",
       "      <td>Family</td>\n",
       "    </tr>\n",
       "    <tr>\n",
       "      <th>337</th>\n",
       "      <td>Really need help getting into college</td>\n",
       "      <td>$60 raised of $5,000 goal\\n3 donations</td>\n",
       "      <td>Family</td>\n",
       "    </tr>\n",
       "  </tbody>\n",
       "</table>\n",
       "<p>338 rows × 3 columns</p>\n",
       "</div>"
      ],
      "text/plain": [
       "                                        Campaign title  \\\n",
       "0       Help Secure a Home for Family Unjustly Evicted   \n",
       "1           Support Zahavi Family's Recovery from Fire   \n",
       "2    Help me to get out and complete my medicine study   \n",
       "3     Help Asmaa Family in Gaza Food Water And Shelter   \n",
       "4            In Memory of Kate: Support for Her Family   \n",
       "..                                                 ...   \n",
       "333                               Buy Ally new raybans   \n",
       "334  Medical Care for Remote Andean Community of Piñan   \n",
       "335  Support Blake's Dream to Study at Seton Hall U...   \n",
       "336                       In memory of a loving father   \n",
       "337              Really need help getting into college   \n",
       "\n",
       "                                          Money raised  \\\n",
       "0       $23,700 raised of $859,000 goal\\n569 donations   \n",
       "1    $520,122 raised of $1,000,000 goal\\n4.2K donat...   \n",
       "2        $15,268 raised of $20,000 goal\\n327 donations   \n",
       "3      $52,379 raised of $100,000 goal\\n2.5K donations   \n",
       "4        $29,310 raised of $50,000 goal\\n232 donations   \n",
       "..                                                 ...   \n",
       "333               $50 raised of $250 goal\\n3 donations   \n",
       "334            $185 raised of $3,500 goal\\n3 donations   \n",
       "335           $120 raised of $18,000 goal\\n3 donations   \n",
       "336            $310 raised of $2,500 goal\\n3 donations   \n",
       "337             $60 raised of $5,000 goal\\n3 donations   \n",
       "\n",
       "                    Category  \n",
       "0                     Family  \n",
       "1                     Family  \n",
       "2                  Education  \n",
       "3                     Family  \n",
       "4                     Family  \n",
       "..                       ...  \n",
       "333                   Family  \n",
       "334  Non-Profits & Charities  \n",
       "335                Education  \n",
       "336                   Family  \n",
       "337                   Family  \n",
       "\n",
       "[338 rows x 3 columns]"
      ]
     },
     "execution_count": 49,
     "metadata": {},
     "output_type": "execute_result"
    }
   ],
   "source": [
    "import pandas as pd\n",
    "\n",
    "campaigns_df = pd.DataFrame(fundme_campaigns, columns=['Campaign title', 'Money raised', 'Category'])\n",
    "campaigns_df"
   ]
  },
  {
   "cell_type": "code",
   "execution_count": 53,
   "id": "df6c95ee-1ce6-425e-b0da-bc949dad6657",
   "metadata": {},
   "outputs": [
    {
     "data": {
      "text/html": [
       "<div>\n",
       "<style scoped>\n",
       "    .dataframe tbody tr th:only-of-type {\n",
       "        vertical-align: middle;\n",
       "    }\n",
       "\n",
       "    .dataframe tbody tr th {\n",
       "        vertical-align: top;\n",
       "    }\n",
       "\n",
       "    .dataframe thead th {\n",
       "        text-align: right;\n",
       "    }\n",
       "</style>\n",
       "<table border=\"1\" class=\"dataframe\">\n",
       "  <thead>\n",
       "    <tr style=\"text-align: right;\">\n",
       "      <th></th>\n",
       "      <th>Campaign title</th>\n",
       "      <th>Money raised</th>\n",
       "      <th>Category</th>\n",
       "    </tr>\n",
       "  </thead>\n",
       "  <tbody>\n",
       "    <tr>\n",
       "      <th>0</th>\n",
       "      <td>Help Secure a Home for Family Unjustly Evicted</td>\n",
       "      <td>$23,700 raised of $859,000 goal\\n569 donations</td>\n",
       "      <td>Family</td>\n",
       "    </tr>\n",
       "    <tr>\n",
       "      <th>1</th>\n",
       "      <td>Support Zahavi Family's Recovery from Fire</td>\n",
       "      <td>$520,122 raised of $1,000,000 goal\\n4.2K donat...</td>\n",
       "      <td>Family</td>\n",
       "    </tr>\n",
       "    <tr>\n",
       "      <th>2</th>\n",
       "      <td>Help me to get out and complete my medicine study</td>\n",
       "      <td>$15,268 raised of $20,000 goal\\n327 donations</td>\n",
       "      <td>Education</td>\n",
       "    </tr>\n",
       "    <tr>\n",
       "      <th>3</th>\n",
       "      <td>Help Asmaa Family in Gaza Food Water And Shelter</td>\n",
       "      <td>$52,379 raised of $100,000 goal\\n2.5K donations</td>\n",
       "      <td>Family</td>\n",
       "    </tr>\n",
       "    <tr>\n",
       "      <th>4</th>\n",
       "      <td>In Memory of Kate: Support for Her Family</td>\n",
       "      <td>$29,310 raised of $50,000 goal\\n232 donations</td>\n",
       "      <td>Family</td>\n",
       "    </tr>\n",
       "  </tbody>\n",
       "</table>\n",
       "</div>"
      ],
      "text/plain": [
       "                                      Campaign title  \\\n",
       "0     Help Secure a Home for Family Unjustly Evicted   \n",
       "1         Support Zahavi Family's Recovery from Fire   \n",
       "2  Help me to get out and complete my medicine study   \n",
       "3   Help Asmaa Family in Gaza Food Water And Shelter   \n",
       "4          In Memory of Kate: Support for Her Family   \n",
       "\n",
       "                                        Money raised   Category  \n",
       "0     $23,700 raised of $859,000 goal\\n569 donations     Family  \n",
       "1  $520,122 raised of $1,000,000 goal\\n4.2K donat...     Family  \n",
       "2      $15,268 raised of $20,000 goal\\n327 donations  Education  \n",
       "3    $52,379 raised of $100,000 goal\\n2.5K donations     Family  \n",
       "4      $29,310 raised of $50,000 goal\\n232 donations     Family  "
      ]
     },
     "execution_count": 53,
     "metadata": {},
     "output_type": "execute_result"
    }
   ],
   "source": [
    "campaigns_df.head()"
   ]
  },
  {
   "cell_type": "code",
   "execution_count": 54,
   "id": "ffc7262e-e6ae-4a05-b634-f242ff965d96",
   "metadata": {},
   "outputs": [
    {
     "data": {
      "text/html": [
       "<div>\n",
       "<style scoped>\n",
       "    .dataframe tbody tr th:only-of-type {\n",
       "        vertical-align: middle;\n",
       "    }\n",
       "\n",
       "    .dataframe tbody tr th {\n",
       "        vertical-align: top;\n",
       "    }\n",
       "\n",
       "    .dataframe thead th {\n",
       "        text-align: right;\n",
       "    }\n",
       "</style>\n",
       "<table border=\"1\" class=\"dataframe\">\n",
       "  <thead>\n",
       "    <tr style=\"text-align: right;\">\n",
       "      <th></th>\n",
       "      <th>Campaign title</th>\n",
       "      <th>Money raised</th>\n",
       "      <th>Category</th>\n",
       "    </tr>\n",
       "  </thead>\n",
       "  <tbody>\n",
       "    <tr>\n",
       "      <th>333</th>\n",
       "      <td>Buy Ally new raybans</td>\n",
       "      <td>$50 raised of $250 goal\\n3 donations</td>\n",
       "      <td>Family</td>\n",
       "    </tr>\n",
       "    <tr>\n",
       "      <th>334</th>\n",
       "      <td>Medical Care for Remote Andean Community of Piñan</td>\n",
       "      <td>$185 raised of $3,500 goal\\n3 donations</td>\n",
       "      <td>Non-Profits &amp; Charities</td>\n",
       "    </tr>\n",
       "    <tr>\n",
       "      <th>335</th>\n",
       "      <td>Support Blake's Dream to Study at Seton Hall U...</td>\n",
       "      <td>$120 raised of $18,000 goal\\n3 donations</td>\n",
       "      <td>Education</td>\n",
       "    </tr>\n",
       "    <tr>\n",
       "      <th>336</th>\n",
       "      <td>In memory of a loving father</td>\n",
       "      <td>$310 raised of $2,500 goal\\n3 donations</td>\n",
       "      <td>Family</td>\n",
       "    </tr>\n",
       "    <tr>\n",
       "      <th>337</th>\n",
       "      <td>Really need help getting into college</td>\n",
       "      <td>$60 raised of $5,000 goal\\n3 donations</td>\n",
       "      <td>Family</td>\n",
       "    </tr>\n",
       "  </tbody>\n",
       "</table>\n",
       "</div>"
      ],
      "text/plain": [
       "                                        Campaign title  \\\n",
       "333                               Buy Ally new raybans   \n",
       "334  Medical Care for Remote Andean Community of Piñan   \n",
       "335  Support Blake's Dream to Study at Seton Hall U...   \n",
       "336                       In memory of a loving father   \n",
       "337              Really need help getting into college   \n",
       "\n",
       "                                 Money raised                 Category  \n",
       "333      $50 raised of $250 goal\\n3 donations                   Family  \n",
       "334   $185 raised of $3,500 goal\\n3 donations  Non-Profits & Charities  \n",
       "335  $120 raised of $18,000 goal\\n3 donations                Education  \n",
       "336   $310 raised of $2,500 goal\\n3 donations                   Family  \n",
       "337    $60 raised of $5,000 goal\\n3 donations                   Family  "
      ]
     },
     "execution_count": 54,
     "metadata": {},
     "output_type": "execute_result"
    }
   ],
   "source": [
    "campaigns_df.tail()"
   ]
  },
  {
   "cell_type": "code",
   "execution_count": 50,
   "id": "e41e95de-1b70-4996-83ee-e8197b2b20df",
   "metadata": {},
   "outputs": [
    {
     "data": {
      "text/plain": [
       "(338, 3)"
      ]
     },
     "execution_count": 50,
     "metadata": {},
     "output_type": "execute_result"
    }
   ],
   "source": [
    "campaigns_df.shape"
   ]
  },
  {
   "cell_type": "code",
   "execution_count": 51,
   "id": "3b3aff6f-539a-491b-8180-d27dd895140a",
   "metadata": {},
   "outputs": [
    {
     "name": "stdout",
     "output_type": "stream",
     "text": [
      "<class 'pandas.core.frame.DataFrame'>\n",
      "RangeIndex: 338 entries, 0 to 337\n",
      "Data columns (total 3 columns):\n",
      " #   Column          Non-Null Count  Dtype \n",
      "---  ------          --------------  ----- \n",
      " 0   Campaign title  338 non-null    object\n",
      " 1   Money raised    338 non-null    object\n",
      " 2   Category        338 non-null    object\n",
      "dtypes: object(3)\n",
      "memory usage: 8.1+ KB\n"
     ]
    }
   ],
   "source": [
    "campaigns_df.info()"
   ]
  },
  {
   "cell_type": "markdown",
   "id": "8f5efafd-f32b-4a98-a8b0-fdd64c9d74df",
   "metadata": {},
   "source": [
    "#### 1.) Data wrangling:"
   ]
  },
  {
   "cell_type": "markdown",
   "id": "6b13dc84-7578-4a77-affa-c8e21b8b9e51",
   "metadata": {},
   "source": [
    "- Create separate columns for Money raised, Goal, and Number of Donations\n",
    "\n",
    "- Improve formatting for the Money raised column with necessary string functions\n",
    "\n",
    "- Convert the units from object to float and improve formatting for Money Raised column\n",
    "\n",
    "- Create a new column called \"Percent funded\" to illustrate funding progress for an ongoing campaign\n",
    "\n"
   ]
  },
  {
   "cell_type": "markdown",
   "id": "5b074fec-15c6-4ffc-9c17-b71878dd4fa6",
   "metadata": {},
   "source": [
    "#### 2.) Ad-Hoc Analysis:"
   ]
  },
  {
   "cell_type": "markdown",
   "id": "217652cf-3d92-4800-9ba6-846f4fcd7a8f",
   "metadata": {},
   "source": [
    "Ana"
   ]
  }
 ],
 "metadata": {
  "kernelspec": {
   "display_name": "Python 3 (ipykernel)",
   "language": "python",
   "name": "python3"
  },
  "language_info": {
   "codemirror_mode": {
    "name": "ipython",
    "version": 3
   },
   "file_extension": ".py",
   "mimetype": "text/x-python",
   "name": "python",
   "nbconvert_exporter": "python",
   "pygments_lexer": "ipython3",
   "version": "3.12.3"
  }
 },
 "nbformat": 4,
 "nbformat_minor": 5
}
