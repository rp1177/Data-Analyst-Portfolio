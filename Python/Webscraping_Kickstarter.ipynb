{
 "cells": [
  {
   "cell_type": "markdown",
   "id": "7228e45e-6882-44ee-ab21-acf390df1568",
   "metadata": {},
   "source": [
    "## Webscraping Kickstarter"
   ]
  },
  {
   "cell_type": "markdown",
   "id": "942665f7-aee1-4518-95d5-7063bbb201b1",
   "metadata": {},
   "source": [
    "#### The goal is to scrape relevant data on the projects that are on kickstarter, analyze the success rate, types of projects, etc.\n"
   ]
  },
  {
   "cell_type": "code",
   "execution_count": null,
   "id": "df5364de-1593-496b-b62e-e73c806c7fe6",
   "metadata": {},
   "outputs": [],
   "source": []
  }
 ],
 "metadata": {
  "kernelspec": {
   "display_name": "Python 3 (ipykernel)",
   "language": "python",
   "name": "python3"
  },
  "language_info": {
   "codemirror_mode": {
    "name": "ipython",
    "version": 3
   },
   "file_extension": ".py",
   "mimetype": "text/x-python",
   "name": "python",
   "nbconvert_exporter": "python",
   "pygments_lexer": "ipython3",
   "version": "3.12.3"
  }
 },
 "nbformat": 4,
 "nbformat_minor": 5
}
